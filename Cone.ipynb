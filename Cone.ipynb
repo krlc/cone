{
 "cells": [
  {
   "cell_type": "markdown",
   "metadata": {},
   "source": [
    "# Заполнение перевернутого конуса"
   ]
  },
  {
   "cell_type": "markdown",
   "metadata": {},
   "source": [
    "Целью является нахождение функции $h(t)$, показывающей уровень жидкости $h$ в сосуде при постоянном притоке жидкости $c$ в зависимости от времени $t$\n",
    "\n",
    "Моделью сосуда, в данном случае, является перевернутый конус. Его харастеристики:\n",
    "\n",
    "|&nbsp;|&nbsp;|\n",
    "|---|---------------------------|\n",
    "| **V** | объем сосуда              |\n",
    "| **h** | уровень жидкости в сосуде |\n",
    "| **r** | радиус сосуда             |\n",
    "| **k** | отношение $\\frac{h}{r}$   |\n",
    "\n",
    "Отношение высоты и радиуса $k$ необходимо для дальнейших вычислений, так как радис увеличивается с высотой.\n",
    "\n",
    "Отношение изменения объема за время и изменения высоты за время характеризуется следующим уравнением:\n",
    "\n",
    "$$\\frac{dV}{dt} = \\frac{d}{dt}\\left[\\frac{1}{3} \\pi h \\left(\\frac{h}{k}\\right)^2\\right]$$\n",
    "\n",
    "Раскрыв скобки, получим:\n",
    "\n",
    "$$\\frac{dV}{dt} = \\frac{d}{dt}\\left[\\frac{1}{3k^2} \\pi h^3 \\right]$$\n",
    "\n",
    "Но так как нам нужно узнать изменение высоты за время, перепишем уравнение по правилу дифференцирования сложной функции (chain rule):\n",
    "\n",
    "$$\\frac{dV}{dt} = \\frac{dh}{dt} \\frac{d}{dh} \\left[\\frac{1}{3k^2} \\pi h^3 \\right]$$\n",
    "\n",
    "Раскрыв скобки, получим:\n",
    "\n",
    "$$\\frac{dV}{dt} = \\frac{dh}{dt} \\frac{\\pi h^2}{k^2}$$\n",
    "\n",
    "А так как $\\frac{dV}{dt} = c$, то уравнение примет следующий вид:\n",
    "\n",
    "$$\\frac{dh}{dt} h^2 = \\frac{ck^2}{\\pi}$$\n",
    "\n",
    "Если заметить, что $h^2 = \\frac{d}{dh} \\left[ \\frac{1}{3}h^3 \\right]$, тогда\n",
    "\n",
    "$$ \\frac{dh}{dt}\\frac{d}{dh}\\left[ \\frac{1}{3} h^3 \\right] = \\frac{ck^2}{\\pi}$$\n",
    "\n",
    "$$ \\frac{d}{dt}\\left[ \\frac{1}{3} h^3 \\right] = \\frac{ck^2}{\\pi}$$\n",
    "\n",
    "Затем, интегрируем:\n",
    "\n",
    "$$ \\int{ \\frac{d}{dt}\\left[ \\frac{1}{3} h^3 \\right] dt} = \\int{ \\frac{ck^2}{\\pi} dt} $$\n",
    "\n",
    "$$ \\frac{1}{3}h^3 = \\frac{ck^2}{\\pi} t + C_1 $$\n",
    "\n",
    "Так как $h(0) = 0$, то соответственно и коэффициент $C_1 = 0$. Искомая функция примет следующий вид:\n",
    "\n",
    "$$ h(t) = \\sqrt[3]{ \\frac{3ck^2 t}{\\pi} } $$\n",
    "\n",
    "График функции выглядит так:\n"
   ]
  },
  {
   "cell_type": "code",
   "execution_count": 62,
   "metadata": {},
   "outputs": [
    {
     "data": {
      "application/vnd.jupyter.widget-view+json": {
       "model_id": "a89ebb76620740b1bbf3e03a6fdc51bf",
       "version_major": 2,
       "version_minor": 0
      },
      "text/plain": [
       "interactive(children=(IntSlider(value=1, description='c', min=1), FloatSlider(value=1.0, description='k', max=…"
      ]
     },
     "metadata": {},
     "output_type": "display_data"
    }
   ],
   "source": [
    "import matplotlib.pyplot as plt  \n",
    "import numpy as np  \n",
    "\n",
    "from ipywidgets import interact, interactive, fixed, interact_manual\n",
    "import ipywidgets as widgets\n",
    "\n",
    "@interact(c=widgets.IntSlider(min=1,max=100,step=1,value=1), k=widgets.FloatSlider(min=0.1,max=10.0,step=0.1,value=1.0))\n",
    "def f(c, k):\n",
    "    t = np.arange(0.0, 2.0, 0.01)  \n",
    "    s = np.cbrt((3 * c * k * k * t)/(np.pi))\n",
    "    plt.plot(t, s)\n",
    "    plt.xlabel('время (s)')  \n",
    "    plt.ylabel('уровень жидкости')  \n",
    "    plt.title('Уровень жидкости в конусе за время (сек)')   \n",
    "    plt.grid(True)    \n",
    "    plt.show()"
   ]
  }
 ],
 "metadata": {
  "kernelspec": {
   "display_name": "Python 3",
   "language": "python",
   "name": "python3"
  },
  "language_info": {
   "codemirror_mode": {
    "name": "ipython",
    "version": 3
   },
   "file_extension": ".py",
   "mimetype": "text/x-python",
   "name": "python",
   "nbconvert_exporter": "python",
   "pygments_lexer": "ipython3",
   "version": "3.6.7"
  }
 },
 "nbformat": 4,
 "nbformat_minor": 2
}
